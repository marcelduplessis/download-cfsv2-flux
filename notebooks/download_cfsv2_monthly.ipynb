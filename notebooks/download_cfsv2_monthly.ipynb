{
 "cells": [
  {
   "cell_type": "markdown",
   "id": "d1b9d362-0d51-46f5-b2bc-6bc7d6ea4c70",
   "metadata": {},
   "source": [
    "#### CFS Operational Analysis\n",
    "\n",
    "Downlaod Climate Forecast System Version 2 (CFSv2) Operational Analysis using THREDDS Data Server (TDS) for the dataset https://www.ncei.noaa.gov/access/metadata/landing-page/bin/iso?id=gov.noaa.ncdc:C00878"
   ]
  },
  {
   "cell_type": "code",
   "execution_count": 1,
   "id": "bf5ccc6a-5566-4e09-942f-2f3f16ff642a",
   "metadata": {},
   "outputs": [],
   "source": [
    "import sys\n",
    "sys.path.append('../functions/')\n",
    "\n",
    "import download_cfsv2 as dwn_cfs"
   ]
  },
  {
   "cell_type": "markdown",
   "id": "74693401-39ca-4550-b8f4-3e86d2082265",
   "metadata": {},
   "source": [
    "#### Download NCEI CFSv2"
   ]
  },
  {
   "cell_type": "code",
   "execution_count": null,
   "id": "27159fad-09a0-45df-b50f-0fe5590e4d09",
   "metadata": {},
   "outputs": [],
   "source": [
    "# choose a path where you would like to save the data \n",
    "path = '/Users/xduplm/Google Drive/My Drive/data/reanalysis/cfsv2/'\n",
    "\n",
    "years = np.arange(2012, 2023, 1)\n",
    "\n",
    "months = np.arange(1, 13, 1)\n",
    "\n",
    "dwn_cfs.download_cfsv2_monthly_data(path, years, months)"
   ]
  }
 ],
 "metadata": {
  "kernelspec": {
   "display_name": "Python 3 (ipykernel)",
   "language": "python",
   "name": "python3"
  },
  "language_info": {
   "codemirror_mode": {
    "name": "ipython",
    "version": 3
   },
   "file_extension": ".py",
   "mimetype": "text/x-python",
   "name": "python",
   "nbconvert_exporter": "python",
   "pygments_lexer": "ipython3",
   "version": "3.9.7"
  }
 },
 "nbformat": 4,
 "nbformat_minor": 5
}
